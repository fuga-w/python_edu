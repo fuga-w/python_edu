{
  "nbformat": 4,
  "nbformat_minor": 0,
  "metadata": {
    "colab": {
      "name": "【第一回】Python覚えてみませんか？.ipynb",
      "provenance": [],
      "collapsed_sections": [],
      "authorship_tag": "ABX9TyM/cBC581wLgbCBBkzWnSBg",
      "include_colab_link": true
    },
    "kernelspec": {
      "name": "python3",
      "display_name": "Python 3"
    }
  },
  "cells": [
    {
      "cell_type": "markdown",
      "metadata": {
        "id": "view-in-github",
        "colab_type": "text"
      },
      "source": [
        "<a href=\"https://colab.research.google.com/github/fuga-w/python_edu/blob/master/%E3%80%90%E7%AC%AC%E4%B8%80%E5%9B%9E%E3%80%91Python%E8%A6%9A%E3%81%88%E3%81%A6%E3%81%BF%E3%81%BE%E3%81%9B%E3%82%93%E3%81%8B%EF%BC%9F.ipynb\" target=\"_parent\"><img src=\"https://colab.research.google.com/assets/colab-badge.svg\" alt=\"Open In Colab\"/></a>"
      ]
    },
    {
      "cell_type": "markdown",
      "metadata": {
        "id": "XGXI5lgCXfC4",
        "colab_type": "text"
      },
      "source": [
        "# 【第一回】Python覚えてみませんか？"
      ]
    },
    {
      "cell_type": "markdown",
      "metadata": {
        "id": "G0x6ohWFX_1z",
        "colab_type": "text"
      },
      "source": [
        "## Pythonとは？"
      ]
    },
    {
      "cell_type": "markdown",
      "metadata": {
        "id": "R8-0-s4sdjRd",
        "colab_type": "text"
      },
      "source": [
        "Pythonは1991年に登場したプログラミング言語です。\n",
        "\n",
        "現代では機械学習分野を中心にWEB開発など様々な場面で利用されている、今最も注目されている言語のひとつです。\n",
        "\n",
        "YoutubeやDropbox、InstagramもPythonで開発されています。"
      ]
    },
    {
      "cell_type": "markdown",
      "metadata": {
        "id": "xW4nI-dhfdFH",
        "colab_type": "text"
      },
      "source": [
        "Pythonには次のような特徴があります。\n",
        "\n",
        "- **シンプルで覚えることが少ない構文**\n",
        "\n",
        "- **1行で多くの処理を記述可能**\n",
        "\n",
        "- **標準ライブラリとして、言語に多くの機能があらかじめ用意されている**\n",
        "\n",
        "- **さらに幅広い用途に使えるPython向け外部ライブラリが豊富に存在している**"
      ]
    },
    {
      "cell_type": "markdown",
      "metadata": {
        "id": "C_fEulgsgCjQ",
        "colab_type": "text"
      },
      "source": [
        "Pythonは「コードの可読性」、「コードの信頼性」、「プログラマーの作業効率」を高めることを重視してデザインされています。\n",
        "\n",
        "その開発は次のような哲学に基づいて行われています。"
      ]
    },
    {
      "cell_type": "markdown",
      "metadata": {
        "id": "zvgbX6dJiLub",
        "colab_type": "text"
      },
      "source": [
        "The Zen of Python, by Tim Peters\n",
        "\n",
        "Beautiful is better than ugly.\n",
        "\n",
        "醜いより美しい方がよい\n",
        "\n",
        "Explicit is better than implicit.\n",
        "\n",
        "暗黙的より明示的の方がよい\n",
        "\n",
        "Simple is better than complex.\n",
        "\n",
        "小難しいより簡単な方がよい\n",
        "\n",
        "Complex is better than complicated.\n",
        "\n",
        "複雑よりも小難しい方がよい\n",
        "\n",
        "Flat is better than nested.\n",
        "\n",
        "ネストは無い方がよい\n",
        "\n",
        "Sparse is better than dense.\n",
        "\n",
        "密結合より疎結合の方がよい\n",
        "\n",
        "Readability counts.\n",
        "\n",
        "可読性は重要である\n",
        "\n",
        "Special cases aren't special enough to break the rules.\n",
        "\n",
        "ルールを破っていいほど特別なケースは無い\n",
        "\n",
        "Although practicality beats purity.\n",
        "\n",
        "そうは言っても、実用性が純粋さに勝ることもある\n",
        "\n",
        "Errors should never pass silently.\n",
        "\n",
        "エラーを無視してはいけない\n",
        "\n",
        "Unless explicitly silenced.\n",
        "\n",
        "ただし、明示的に無視していい場合は除く\n",
        "\n",
        "In the face of ambiguity, refuse the temptation to guess.\n",
        "\n",
        "あいまいさに直面した時、単に推測して済ましてしまいたいという誘惑に負けてはいけない\n",
        "\n",
        "There should be one-- and preferably only one --obvious way to do it.\n",
        "\n",
        "何かをするとき、たった一つの明確な方法があるはずである\n",
        "\n",
        "Although that way may not be obvious at first unless you're Dutch.\n",
        "\n",
        "しかしながら、あなたがオランダ人でない限りそのような方法は初めのうちは無いように感じるだろう\n",
        "\n",
        "Now is better than never.\n",
        "\n",
        "やらないより今やった方がよい\n",
        "\n",
        "Although never is often better than *right* now.\n",
        "\n",
        "そうはいっても、**今すぐ**やるよりやらない方がよい時もある\n",
        "\n",
        "If the implementation is hard to explain, it's a bad idea.\n",
        "\n",
        "もし、その実装を説明するのが難しいのであれば、それは良いアイデアではない\n",
        "\n",
        "If the implementation is easy to explain, it may be a good idea.\n",
        "\n",
        "もし、その実装を説明するのが簡単なのであれば、それは良いアイデアである\n",
        "\n",
        "Namespaces are one honking great idea -- let's do more of those!\n",
        "\n",
        "名前空間は素晴らしいアイデアである。もっと使ってみよう！"
      ]
    },
    {
      "cell_type": "markdown",
      "metadata": {
        "id": "BAE4U926mZog",
        "colab_type": "text"
      },
      "source": [
        "Pythonの哲学は次のようにタイプすれば、開発中いつでも見ることができます。"
      ]
    },
    {
      "cell_type": "code",
      "metadata": {
        "id": "kZdjJE1aYCsc",
        "colab_type": "code",
        "outputId": "32873fc3-7037-47d1-9643-426b63fac343",
        "colab": {
          "base_uri": "https://localhost:8080/",
          "height": 395
        }
      },
      "source": [
        "import this"
      ],
      "execution_count": 0,
      "outputs": [
        {
          "output_type": "stream",
          "text": [
            "The Zen of Python, by Tim Peters\n",
            "\n",
            "Beautiful is better than ugly.\n",
            "Explicit is better than implicit.\n",
            "Simple is better than complex.\n",
            "Complex is better than complicated.\n",
            "Flat is better than nested.\n",
            "Sparse is better than dense.\n",
            "Readability counts.\n",
            "Special cases aren't special enough to break the rules.\n",
            "Although practicality beats purity.\n",
            "Errors should never pass silently.\n",
            "Unless explicitly silenced.\n",
            "In the face of ambiguity, refuse the temptation to guess.\n",
            "There should be one-- and preferably only one --obvious way to do it.\n",
            "Although that way may not be obvious at first unless you're Dutch.\n",
            "Now is better than never.\n",
            "Although never is often better than *right* now.\n",
            "If the implementation is hard to explain, it's a bad idea.\n",
            "If the implementation is easy to explain, it may be a good idea.\n",
            "Namespaces are one honking great idea -- let's do more of those!\n"
          ],
          "name": "stdout"
        }
      ]
    },
    {
      "cell_type": "markdown",
      "metadata": {
        "id": "K-l9LLNl9Bl2",
        "colab_type": "text"
      },
      "source": [
        "## 簡単なプログラム"
      ]
    },
    {
      "cell_type": "markdown",
      "metadata": {
        "id": "h_E_bXLo9IMc",
        "colab_type": "text"
      },
      "source": [
        "Pythonの世界への第一歩としてHello Worldと表示するプログラムを書いてみましょう。"
      ]
    },
    {
      "cell_type": "code",
      "metadata": {
        "id": "aCQ3VWPx9FPX",
        "colab_type": "code",
        "colab": {
          "base_uri": "https://localhost:8080/",
          "height": 35
        },
        "outputId": "3dd2e245-cef7-4633-a7f1-866b1a38c9c7"
      },
      "source": [
        "print(\"Hello World\")"
      ],
      "execution_count": 1,
      "outputs": [
        {
          "output_type": "stream",
          "text": [
            "Hello World\n"
          ],
          "name": "stdout"
        }
      ]
    },
    {
      "cell_type": "markdown",
      "metadata": {
        "id": "PsjUoa-_-ZsL",
        "colab_type": "text"
      },
      "source": [
        "表示にはprint関数を使います。\n",
        "\n",
        "引数には表示したいオブジェクト(値、文字列、変数など)を渡すと内容を表示してくれます。"
      ]
    },
    {
      "cell_type": "markdown",
      "metadata": {
        "id": "f60c8wM1pOA6",
        "colab_type": "text"
      },
      "source": [
        "## 変数"
      ]
    },
    {
      "cell_type": "markdown",
      "metadata": {
        "id": "gkxyxa9jp4Gj",
        "colab_type": "text"
      },
      "source": [
        "変数nに10を代入してみましょう。\n",
        "\n",
        "Pythonの世界では変数の型宣言は必要ありません。\n",
        "\n",
        "変数がどのような型を持つのかは実行時にインタプリターが汲み取ってくれます。"
      ]
    },
    {
      "cell_type": "code",
      "metadata": {
        "id": "O2LjgO9iqG1T",
        "colab_type": "code",
        "colab": {}
      },
      "source": [
        "n = 10"
      ],
      "execution_count": 0,
      "outputs": []
    },
    {
      "cell_type": "markdown",
      "metadata": {
        "id": "dr0n0DkBqNAn",
        "colab_type": "text"
      },
      "source": [
        "type関数で変数の型を確認してみましょう。\n",
        "\n",
        "変数nが数値型(int)であることをインタプリターが汲み取ってくれているのがわかります。"
      ]
    },
    {
      "cell_type": "code",
      "metadata": {
        "id": "zsM3U_QUrmhD",
        "colab_type": "code",
        "outputId": "fd221c10-da11-427b-b718-cdc640db6d4b",
        "colab": {
          "base_uri": "https://localhost:8080/",
          "height": 34
        }
      },
      "source": [
        "type(n)"
      ],
      "execution_count": 0,
      "outputs": [
        {
          "output_type": "execute_result",
          "data": {
            "text/plain": [
              "int"
            ]
          },
          "metadata": {
            "tags": []
          },
          "execution_count": 2
        }
      ]
    },
    {
      "cell_type": "markdown",
      "metadata": {
        "id": "hzTxb18uq1nu",
        "colab_type": "text"
      },
      "source": [
        "pythonは動的型付け言語です。\n",
        "\n",
        "動的型付け言語では実行されるまで変数の型は決定されません。\n",
        "\n",
        "そのため、同じ名前の変数に異なる型の数値を代入することもできます。"
      ]
    },
    {
      "cell_type": "markdown",
      "metadata": {
        "id": "b3xDIzzotbVd",
        "colab_type": "text"
      },
      "source": [
        "変数nに数値と文字列を代入しnの型を確認してみましょう。\n",
        "\n",
        "代入される値によって変数の型が変わることが分かります。"
      ]
    },
    {
      "cell_type": "code",
      "metadata": {
        "id": "VOC7DtA9s-9A",
        "colab_type": "code",
        "outputId": "bcf10e4a-cd7a-4aeb-ee79-f1e8d7ddafa9",
        "colab": {
          "base_uri": "https://localhost:8080/",
          "height": 51
        }
      },
      "source": [
        "n = 10 # 数値を代入\n",
        "print(type(n)) # 変数の型を確認\n",
        "\n",
        "n = \"10\" # 文字列を代入\n",
        "print(type(n))"
      ],
      "execution_count": 0,
      "outputs": [
        {
          "output_type": "stream",
          "text": [
            "<class 'int'>\n",
            "<class 'str'>\n"
          ],
          "name": "stdout"
        }
      ]
    },
    {
      "cell_type": "markdown",
      "metadata": {
        "id": "gSdQb2n9t3wu",
        "colab_type": "text"
      },
      "source": [
        "Pythonの世界では変数への代入は全て**参照渡し**で行われます。\n",
        "\n",
        "明示的なコピーを行わない限り、値はコピーされません。"
      ]
    },
    {
      "cell_type": "markdown",
      "metadata": {
        "id": "heAReyeCvmuW",
        "colab_type": "text"
      },
      "source": [
        "id関数を使って変数の代入が参照渡しされていることを確認しましょう。"
      ]
    }
  ]
}